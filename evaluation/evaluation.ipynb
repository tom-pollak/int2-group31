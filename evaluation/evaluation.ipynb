{
 "cells": [
  {
   "cell_type": "markdown",
   "source": [
    "# Evaluation"
   ],
   "metadata": {
    "collapsed": false,
    "pycharm": {
     "name": "#%% md\n"
    }
   }
  },
  {
   "cell_type": "code",
   "execution_count": 92,
   "outputs": [],
   "source": [
    "import tensorflow as tf\n",
    "from tensorflow.keras import datasets\n",
    "import matplotlib.pyplot as plt\n",
    "import os"
   ],
   "metadata": {
    "collapsed": false,
    "pycharm": {
     "name": "#%%\n"
    }
   }
  },
  {
   "cell_type": "markdown",
   "source": [
    "## Load test data"
   ],
   "metadata": {
    "collapsed": false,
    "pycharm": {
     "name": "#%% md\n"
    }
   }
  },
  {
   "cell_type": "code",
   "execution_count": 93,
   "outputs": [],
   "source": [
    "_, (test_images, test_labels) = datasets.cifar10.load_data()\n",
    "test_images =  test_images / 255.0\n",
    "test_labels = tf.keras.utils.to_categorical(test_labels)"
   ],
   "metadata": {
    "collapsed": false,
    "pycharm": {
     "name": "#%%\n"
    }
   }
  },
  {
   "cell_type": "markdown",
   "source": [
    "## Load models\n",
    "\n",
    "We are evaluating the following models:\n",
    "\n",
    "1. Basic model with dropout\n",
    "2. Batch normalisation\n",
    "3. Increased dropout\n",
    "4. Final model"
   ],
   "metadata": {
    "collapsed": false,
    "pycharm": {
     "name": "#%% md\n"
    }
   }
  },
  {
   "cell_type": "code",
   "execution_count": 94,
   "metadata": {
    "collapsed": true,
    "pycharm": {
     "name": "#%%\n"
    }
   },
   "outputs": [
    {
     "name": "stdout",
     "output_type": "stream",
     "text": [
      "313/313 - 24s - loss: 1.5514 - accuracy: 0.7439 - 24s/epoch - 76ms/step\n",
      "WARNING:tensorflow:Unresolved object in checkpoint: (root).__call__\n",
      "WARNING:tensorflow:Unresolved object in checkpoint: (root).call_and_return_all_conditional_losses\n",
      "WARNING:tensorflow:Unresolved object in checkpoint: (root)._default_save_signature\n",
      "WARNING:tensorflow:Unresolved object in checkpoint: (root).layer_with_weights-0.__call__\n",
      "WARNING:tensorflow:Unresolved object in checkpoint: (root).layer_with_weights-0.call_and_return_all_conditional_losses\n",
      "WARNING:tensorflow:Unresolved object in checkpoint: (root).layer_with_weights-1.__call__\n",
      "WARNING:tensorflow:Unresolved object in checkpoint: (root).layer_with_weights-1.call_and_return_all_conditional_losses\n",
      "WARNING:tensorflow:Unresolved object in checkpoint: (root).layer_with_weights-2.__call__\n",
      "WARNING:tensorflow:Unresolved object in checkpoint: (root).layer_with_weights-2.call_and_return_all_conditional_losses\n",
      "WARNING:tensorflow:Unresolved object in checkpoint: (root).layer_with_weights-3.__call__\n",
      "WARNING:tensorflow:Unresolved object in checkpoint: (root).layer_with_weights-3.call_and_return_all_conditional_losses\n",
      "WARNING:tensorflow:Unresolved object in checkpoint: (root).layer-4.__call__\n",
      "WARNING:tensorflow:Unresolved object in checkpoint: (root).layer-4.call_and_return_all_conditional_losses\n",
      "WARNING:tensorflow:Unresolved object in checkpoint: (root).layer-5.__call__\n",
      "WARNING:tensorflow:Unresolved object in checkpoint: (root).layer-5.call_and_return_all_conditional_losses\n",
      "WARNING:tensorflow:Unresolved object in checkpoint: (root).layer_with_weights-4.__call__\n",
      "WARNING:tensorflow:Unresolved object in checkpoint: (root).layer_with_weights-4.call_and_return_all_conditional_losses\n",
      "WARNING:tensorflow:Unresolved object in checkpoint: (root).layer_with_weights-5.__call__\n",
      "WARNING:tensorflow:Unresolved object in checkpoint: (root).layer_with_weights-5.call_and_return_all_conditional_losses\n",
      "WARNING:tensorflow:Unresolved object in checkpoint: (root).layer_with_weights-6.__call__\n",
      "WARNING:tensorflow:Unresolved object in checkpoint: (root).layer_with_weights-6.call_and_return_all_conditional_losses\n",
      "WARNING:tensorflow:Unresolved object in checkpoint: (root).layer_with_weights-7.__call__\n",
      "WARNING:tensorflow:Unresolved object in checkpoint: (root).layer_with_weights-7.call_and_return_all_conditional_losses\n",
      "WARNING:tensorflow:Unresolved object in checkpoint: (root).layer-10.__call__\n",
      "WARNING:tensorflow:Unresolved object in checkpoint: (root).layer-10.call_and_return_all_conditional_losses\n",
      "WARNING:tensorflow:Unresolved object in checkpoint: (root).layer-11.__call__\n",
      "WARNING:tensorflow:Unresolved object in checkpoint: (root).layer-11.call_and_return_all_conditional_losses\n",
      "WARNING:tensorflow:Unresolved object in checkpoint: (root).layer_with_weights-8.__call__\n",
      "WARNING:tensorflow:Unresolved object in checkpoint: (root).layer_with_weights-8.call_and_return_all_conditional_losses\n",
      "WARNING:tensorflow:Unresolved object in checkpoint: (root).layer_with_weights-9.__call__\n",
      "WARNING:tensorflow:Unresolved object in checkpoint: (root).layer_with_weights-9.call_and_return_all_conditional_losses\n",
      "WARNING:tensorflow:Unresolved object in checkpoint: (root).layer_with_weights-10.__call__\n",
      "WARNING:tensorflow:Unresolved object in checkpoint: (root).layer_with_weights-10.call_and_return_all_conditional_losses\n",
      "WARNING:tensorflow:Unresolved object in checkpoint: (root).layer_with_weights-11.__call__\n",
      "WARNING:tensorflow:Unresolved object in checkpoint: (root).layer_with_weights-11.call_and_return_all_conditional_losses\n",
      "WARNING:tensorflow:Unresolved object in checkpoint: (root).layer-16.__call__\n",
      "WARNING:tensorflow:Unresolved object in checkpoint: (root).layer-16.call_and_return_all_conditional_losses\n",
      "WARNING:tensorflow:Unresolved object in checkpoint: (root).layer-17.__call__\n",
      "WARNING:tensorflow:Unresolved object in checkpoint: (root).layer-17.call_and_return_all_conditional_losses\n",
      "WARNING:tensorflow:Unresolved object in checkpoint: (root).layer-18.__call__\n",
      "WARNING:tensorflow:Unresolved object in checkpoint: (root).layer-18.call_and_return_all_conditional_losses\n",
      "WARNING:tensorflow:Unresolved object in checkpoint: (root).layer_with_weights-12.__call__\n",
      "WARNING:tensorflow:Unresolved object in checkpoint: (root).layer_with_weights-12.call_and_return_all_conditional_losses\n",
      "WARNING:tensorflow:Unresolved object in checkpoint: (root).layer_with_weights-13.__call__\n",
      "WARNING:tensorflow:Unresolved object in checkpoint: (root).layer_with_weights-13.call_and_return_all_conditional_losses\n",
      "WARNING:tensorflow:Unresolved object in checkpoint: (root).layer-21.__call__\n",
      "WARNING:tensorflow:Unresolved object in checkpoint: (root).layer-21.call_and_return_all_conditional_losses\n",
      "WARNING:tensorflow:Unresolved object in checkpoint: (root).layer_with_weights-14.__call__\n",
      "WARNING:tensorflow:Unresolved object in checkpoint: (root).layer_with_weights-14.call_and_return_all_conditional_losses\n",
      "WARNING:tensorflow:Unresolved object in checkpoint: (root).layer_with_weights-15.__call__\n",
      "WARNING:tensorflow:Unresolved object in checkpoint: (root).layer_with_weights-15.call_and_return_all_conditional_losses\n",
      "WARNING:tensorflow:Unresolved object in checkpoint: (root).layer-24.__call__\n",
      "WARNING:tensorflow:Unresolved object in checkpoint: (root).layer-24.call_and_return_all_conditional_losses\n",
      "WARNING:tensorflow:Unresolved object in checkpoint: (root).layer_with_weights-16.__call__\n",
      "WARNING:tensorflow:Unresolved object in checkpoint: (root).layer_with_weights-16.call_and_return_all_conditional_losses\n",
      "WARNING:tensorflow:Unresolved object in checkpoint: (root).signatures.serving_default\n",
      "WARNING:tensorflow:A checkpoint was restored (e.g. tf.train.Checkpoint.restore or tf.keras.Model.load_weights) but not all checkpointed values were used. See above for specific issues. Use expect_partial() on the load status object, e.g. tf.train.Checkpoint.restore(...).expect_partial(), to silence these warnings, or use assert_consumed() to make the check explicit. See https://www.tensorflow.org/guide/checkpoint#loading_mechanics for details.\n",
      "WARNING:tensorflow:Unresolved object in checkpoint: (root).__call__\n",
      "WARNING:tensorflow:Unresolved object in checkpoint: (root).call_and_return_all_conditional_losses\n",
      "WARNING:tensorflow:Unresolved object in checkpoint: (root)._default_save_signature\n",
      "WARNING:tensorflow:Unresolved object in checkpoint: (root).layer_with_weights-0.__call__\n",
      "WARNING:tensorflow:Unresolved object in checkpoint: (root).layer_with_weights-0.call_and_return_all_conditional_losses\n",
      "WARNING:tensorflow:Unresolved object in checkpoint: (root).layer_with_weights-1.__call__\n",
      "WARNING:tensorflow:Unresolved object in checkpoint: (root).layer_with_weights-1.call_and_return_all_conditional_losses\n",
      "WARNING:tensorflow:Unresolved object in checkpoint: (root).layer_with_weights-2.__call__\n",
      "WARNING:tensorflow:Unresolved object in checkpoint: (root).layer_with_weights-2.call_and_return_all_conditional_losses\n",
      "WARNING:tensorflow:Unresolved object in checkpoint: (root).layer_with_weights-3.__call__\n",
      "WARNING:tensorflow:Unresolved object in checkpoint: (root).layer_with_weights-3.call_and_return_all_conditional_losses\n",
      "WARNING:tensorflow:Unresolved object in checkpoint: (root).layer-4.__call__\n",
      "WARNING:tensorflow:Unresolved object in checkpoint: (root).layer-4.call_and_return_all_conditional_losses\n",
      "WARNING:tensorflow:Unresolved object in checkpoint: (root).layer-5.__call__\n",
      "WARNING:tensorflow:Unresolved object in checkpoint: (root).layer-5.call_and_return_all_conditional_losses\n",
      "WARNING:tensorflow:Unresolved object in checkpoint: (root).layer_with_weights-4.__call__\n",
      "WARNING:tensorflow:Unresolved object in checkpoint: (root).layer_with_weights-4.call_and_return_all_conditional_losses\n",
      "WARNING:tensorflow:Unresolved object in checkpoint: (root).layer_with_weights-5.__call__\n",
      "WARNING:tensorflow:Unresolved object in checkpoint: (root).layer_with_weights-5.call_and_return_all_conditional_losses\n",
      "WARNING:tensorflow:Unresolved object in checkpoint: (root).layer_with_weights-6.__call__\n",
      "WARNING:tensorflow:Unresolved object in checkpoint: (root).layer_with_weights-6.call_and_return_all_conditional_losses\n",
      "WARNING:tensorflow:Unresolved object in checkpoint: (root).layer_with_weights-7.__call__\n",
      "WARNING:tensorflow:Unresolved object in checkpoint: (root).layer_with_weights-7.call_and_return_all_conditional_losses\n",
      "WARNING:tensorflow:Unresolved object in checkpoint: (root).layer-10.__call__\n",
      "WARNING:tensorflow:Unresolved object in checkpoint: (root).layer-10.call_and_return_all_conditional_losses\n",
      "WARNING:tensorflow:Unresolved object in checkpoint: (root).layer-11.__call__\n",
      "WARNING:tensorflow:Unresolved object in checkpoint: (root).layer-11.call_and_return_all_conditional_losses\n",
      "WARNING:tensorflow:Unresolved object in checkpoint: (root).layer_with_weights-8.__call__\n",
      "WARNING:tensorflow:Unresolved object in checkpoint: (root).layer_with_weights-8.call_and_return_all_conditional_losses\n",
      "WARNING:tensorflow:Unresolved object in checkpoint: (root).layer_with_weights-9.__call__\n",
      "WARNING:tensorflow:Unresolved object in checkpoint: (root).layer_with_weights-9.call_and_return_all_conditional_losses\n",
      "WARNING:tensorflow:Unresolved object in checkpoint: (root).layer_with_weights-10.__call__\n",
      "WARNING:tensorflow:Unresolved object in checkpoint: (root).layer_with_weights-10.call_and_return_all_conditional_losses\n",
      "WARNING:tensorflow:Unresolved object in checkpoint: (root).layer_with_weights-11.__call__\n",
      "WARNING:tensorflow:Unresolved object in checkpoint: (root).layer_with_weights-11.call_and_return_all_conditional_losses\n",
      "WARNING:tensorflow:Unresolved object in checkpoint: (root).layer-16.__call__\n",
      "WARNING:tensorflow:Unresolved object in checkpoint: (root).layer-16.call_and_return_all_conditional_losses\n",
      "WARNING:tensorflow:Unresolved object in checkpoint: (root).layer-17.__call__\n",
      "WARNING:tensorflow:Unresolved object in checkpoint: (root).layer-17.call_and_return_all_conditional_losses\n",
      "WARNING:tensorflow:Unresolved object in checkpoint: (root).layer-18.__call__\n",
      "WARNING:tensorflow:Unresolved object in checkpoint: (root).layer-18.call_and_return_all_conditional_losses\n",
      "WARNING:tensorflow:Unresolved object in checkpoint: (root).layer_with_weights-12.__call__\n",
      "WARNING:tensorflow:Unresolved object in checkpoint: (root).layer_with_weights-12.call_and_return_all_conditional_losses\n",
      "WARNING:tensorflow:Unresolved object in checkpoint: (root).layer_with_weights-13.__call__\n",
      "WARNING:tensorflow:Unresolved object in checkpoint: (root).layer_with_weights-13.call_and_return_all_conditional_losses\n",
      "WARNING:tensorflow:Unresolved object in checkpoint: (root).layer-21.__call__\n",
      "WARNING:tensorflow:Unresolved object in checkpoint: (root).layer-21.call_and_return_all_conditional_losses\n",
      "WARNING:tensorflow:Unresolved object in checkpoint: (root).layer_with_weights-14.__call__\n",
      "WARNING:tensorflow:Unresolved object in checkpoint: (root).layer_with_weights-14.call_and_return_all_conditional_losses\n",
      "WARNING:tensorflow:Unresolved object in checkpoint: (root).layer_with_weights-15.__call__\n",
      "WARNING:tensorflow:Unresolved object in checkpoint: (root).layer_with_weights-15.call_and_return_all_conditional_losses\n",
      "WARNING:tensorflow:Unresolved object in checkpoint: (root).layer-24.__call__\n",
      "WARNING:tensorflow:Unresolved object in checkpoint: (root).layer-24.call_and_return_all_conditional_losses\n",
      "WARNING:tensorflow:Unresolved object in checkpoint: (root).layer_with_weights-16.__call__\n",
      "WARNING:tensorflow:Unresolved object in checkpoint: (root).layer_with_weights-16.call_and_return_all_conditional_losses\n",
      "WARNING:tensorflow:Unresolved object in checkpoint: (root).signatures.serving_default\n",
      "WARNING:tensorflow:A checkpoint was restored (e.g. tf.train.Checkpoint.restore or tf.keras.Model.load_weights) but not all checkpointed values were used. See above for specific issues. Use expect_partial() on the load status object, e.g. tf.train.Checkpoint.restore(...).expect_partial(), to silence these warnings, or use assert_consumed() to make the check explicit. See https://www.tensorflow.org/guide/checkpoint#loading_mechanics for details.\n",
      "WARNING:tensorflow:Unresolved object in checkpoint: (root).__call__\n",
      "WARNING:tensorflow:Unresolved object in checkpoint: (root).call_and_return_all_conditional_losses\n",
      "WARNING:tensorflow:Unresolved object in checkpoint: (root)._default_save_signature\n",
      "WARNING:tensorflow:Unresolved object in checkpoint: (root).layer_with_weights-0.__call__\n",
      "WARNING:tensorflow:Unresolved object in checkpoint: (root).layer_with_weights-0.call_and_return_all_conditional_losses\n",
      "WARNING:tensorflow:Unresolved object in checkpoint: (root).layer_with_weights-1.__call__\n",
      "WARNING:tensorflow:Unresolved object in checkpoint: (root).layer_with_weights-1.call_and_return_all_conditional_losses\n",
      "WARNING:tensorflow:Unresolved object in checkpoint: (root).layer_with_weights-2.__call__\n",
      "WARNING:tensorflow:Unresolved object in checkpoint: (root).layer_with_weights-2.call_and_return_all_conditional_losses\n",
      "WARNING:tensorflow:Unresolved object in checkpoint: (root).layer_with_weights-3.__call__\n",
      "WARNING:tensorflow:Unresolved object in checkpoint: (root).layer_with_weights-3.call_and_return_all_conditional_losses\n",
      "WARNING:tensorflow:Unresolved object in checkpoint: (root).layer-4.__call__\n",
      "WARNING:tensorflow:Unresolved object in checkpoint: (root).layer-4.call_and_return_all_conditional_losses\n",
      "WARNING:tensorflow:Unresolved object in checkpoint: (root).layer-5.__call__\n",
      "WARNING:tensorflow:Unresolved object in checkpoint: (root).layer-5.call_and_return_all_conditional_losses\n",
      "WARNING:tensorflow:Unresolved object in checkpoint: (root).layer_with_weights-4.__call__\n",
      "WARNING:tensorflow:Unresolved object in checkpoint: (root).layer_with_weights-4.call_and_return_all_conditional_losses\n",
      "WARNING:tensorflow:Unresolved object in checkpoint: (root).layer_with_weights-5.__call__\n",
      "WARNING:tensorflow:Unresolved object in checkpoint: (root).layer_with_weights-5.call_and_return_all_conditional_losses\n",
      "WARNING:tensorflow:Unresolved object in checkpoint: (root).layer_with_weights-6.__call__\n",
      "WARNING:tensorflow:Unresolved object in checkpoint: (root).layer_with_weights-6.call_and_return_all_conditional_losses\n",
      "WARNING:tensorflow:Unresolved object in checkpoint: (root).layer_with_weights-7.__call__\n",
      "WARNING:tensorflow:Unresolved object in checkpoint: (root).layer_with_weights-7.call_and_return_all_conditional_losses\n",
      "WARNING:tensorflow:Unresolved object in checkpoint: (root).layer-10.__call__\n",
      "WARNING:tensorflow:Unresolved object in checkpoint: (root).layer-10.call_and_return_all_conditional_losses\n",
      "WARNING:tensorflow:Unresolved object in checkpoint: (root).layer-11.__call__\n",
      "WARNING:tensorflow:Unresolved object in checkpoint: (root).layer-11.call_and_return_all_conditional_losses\n",
      "WARNING:tensorflow:Unresolved object in checkpoint: (root).layer_with_weights-8.__call__\n",
      "WARNING:tensorflow:Unresolved object in checkpoint: (root).layer_with_weights-8.call_and_return_all_conditional_losses\n",
      "WARNING:tensorflow:Unresolved object in checkpoint: (root).layer_with_weights-9.__call__\n",
      "WARNING:tensorflow:Unresolved object in checkpoint: (root).layer_with_weights-9.call_and_return_all_conditional_losses\n",
      "WARNING:tensorflow:Unresolved object in checkpoint: (root).layer_with_weights-10.__call__\n",
      "WARNING:tensorflow:Unresolved object in checkpoint: (root).layer_with_weights-10.call_and_return_all_conditional_losses\n",
      "WARNING:tensorflow:Unresolved object in checkpoint: (root).layer_with_weights-11.__call__\n",
      "WARNING:tensorflow:Unresolved object in checkpoint: (root).layer_with_weights-11.call_and_return_all_conditional_losses\n",
      "WARNING:tensorflow:Unresolved object in checkpoint: (root).layer-16.__call__\n",
      "WARNING:tensorflow:Unresolved object in checkpoint: (root).layer-16.call_and_return_all_conditional_losses\n",
      "WARNING:tensorflow:Unresolved object in checkpoint: (root).layer-17.__call__\n",
      "WARNING:tensorflow:Unresolved object in checkpoint: (root).layer-17.call_and_return_all_conditional_losses\n",
      "WARNING:tensorflow:Unresolved object in checkpoint: (root).layer-18.__call__\n",
      "WARNING:tensorflow:Unresolved object in checkpoint: (root).layer-18.call_and_return_all_conditional_losses\n",
      "WARNING:tensorflow:Unresolved object in checkpoint: (root).layer_with_weights-12.__call__\n",
      "WARNING:tensorflow:Unresolved object in checkpoint: (root).layer_with_weights-12.call_and_return_all_conditional_losses\n",
      "WARNING:tensorflow:Unresolved object in checkpoint: (root).layer_with_weights-13.__call__\n",
      "WARNING:tensorflow:Unresolved object in checkpoint: (root).layer_with_weights-13.call_and_return_all_conditional_losses\n",
      "WARNING:tensorflow:Unresolved object in checkpoint: (root).layer-21.__call__\n",
      "WARNING:tensorflow:Unresolved object in checkpoint: (root).layer-21.call_and_return_all_conditional_losses\n",
      "WARNING:tensorflow:Unresolved object in checkpoint: (root).layer_with_weights-14.__call__\n",
      "WARNING:tensorflow:Unresolved object in checkpoint: (root).layer_with_weights-14.call_and_return_all_conditional_losses\n",
      "WARNING:tensorflow:Unresolved object in checkpoint: (root).layer_with_weights-15.__call__\n",
      "WARNING:tensorflow:Unresolved object in checkpoint: (root).layer_with_weights-15.call_and_return_all_conditional_losses\n",
      "WARNING:tensorflow:Unresolved object in checkpoint: (root).layer-24.__call__\n",
      "WARNING:tensorflow:Unresolved object in checkpoint: (root).layer-24.call_and_return_all_conditional_losses\n",
      "WARNING:tensorflow:Unresolved object in checkpoint: (root).layer_with_weights-16.__call__\n",
      "WARNING:tensorflow:Unresolved object in checkpoint: (root).layer_with_weights-16.call_and_return_all_conditional_losses\n",
      "WARNING:tensorflow:Unresolved object in checkpoint: (root).signatures.serving_default\n",
      "WARNING:tensorflow:A checkpoint was restored (e.g. tf.train.Checkpoint.restore or tf.keras.Model.load_weights) but not all checkpointed values were used. See above for specific issues. Use expect_partial() on the load status object, e.g. tf.train.Checkpoint.restore(...).expect_partial(), to silence these warnings, or use assert_consumed() to make the check explicit. See https://www.tensorflow.org/guide/checkpoint#loading_mechanics for details.\n",
      "313/313 - 28s - loss: 0.9528 - accuracy: 0.8461 - 28s/epoch - 91ms/step\n",
      "313/313 - 27s - loss: 0.3007 - accuracy: 0.9113 - 27s/epoch - 86ms/step\n",
      "313/313 - 24s - loss: 0.2643 - accuracy: 0.9215 - 24s/epoch - 76ms/step\n",
      "313/313 - 22s - loss: 1.2824 - accuracy: 0.7913 - 22s/epoch - 71ms/step\n",
      "WARNING:tensorflow:Unresolved object in checkpoint: (root).__call__\n",
      "WARNING:tensorflow:Unresolved object in checkpoint: (root).call_and_return_all_conditional_losses\n",
      "WARNING:tensorflow:Unresolved object in checkpoint: (root)._default_save_signature\n",
      "WARNING:tensorflow:Unresolved object in checkpoint: (root).layer_with_weights-0.__call__\n",
      "WARNING:tensorflow:Unresolved object in checkpoint: (root).layer_with_weights-0.call_and_return_all_conditional_losses\n",
      "WARNING:tensorflow:Unresolved object in checkpoint: (root).layer_with_weights-1.__call__\n",
      "WARNING:tensorflow:Unresolved object in checkpoint: (root).layer_with_weights-1.call_and_return_all_conditional_losses\n",
      "WARNING:tensorflow:Unresolved object in checkpoint: (root).layer-2.__call__\n",
      "WARNING:tensorflow:Unresolved object in checkpoint: (root).layer-2.call_and_return_all_conditional_losses\n",
      "WARNING:tensorflow:Unresolved object in checkpoint: (root).layer-3.__call__\n",
      "WARNING:tensorflow:Unresolved object in checkpoint: (root).layer-3.call_and_return_all_conditional_losses\n",
      "WARNING:tensorflow:Unresolved object in checkpoint: (root).layer_with_weights-2.__call__\n",
      "WARNING:tensorflow:Unresolved object in checkpoint: (root).layer_with_weights-2.call_and_return_all_conditional_losses\n",
      "WARNING:tensorflow:Unresolved object in checkpoint: (root).layer_with_weights-3.__call__\n",
      "WARNING:tensorflow:Unresolved object in checkpoint: (root).layer_with_weights-3.call_and_return_all_conditional_losses\n",
      "WARNING:tensorflow:Unresolved object in checkpoint: (root).layer-6.__call__\n",
      "WARNING:tensorflow:Unresolved object in checkpoint: (root).layer-6.call_and_return_all_conditional_losses\n",
      "WARNING:tensorflow:Unresolved object in checkpoint: (root).layer-7.__call__\n",
      "WARNING:tensorflow:Unresolved object in checkpoint: (root).layer-7.call_and_return_all_conditional_losses\n",
      "WARNING:tensorflow:Unresolved object in checkpoint: (root).layer_with_weights-4.__call__\n",
      "WARNING:tensorflow:Unresolved object in checkpoint: (root).layer_with_weights-4.call_and_return_all_conditional_losses\n",
      "WARNING:tensorflow:Unresolved object in checkpoint: (root).layer_with_weights-5.__call__\n",
      "WARNING:tensorflow:Unresolved object in checkpoint: (root).layer_with_weights-5.call_and_return_all_conditional_losses\n",
      "WARNING:tensorflow:Unresolved object in checkpoint: (root).layer-10.__call__\n",
      "WARNING:tensorflow:Unresolved object in checkpoint: (root).layer-10.call_and_return_all_conditional_losses\n",
      "WARNING:tensorflow:Unresolved object in checkpoint: (root).layer-11.__call__\n",
      "WARNING:tensorflow:Unresolved object in checkpoint: (root).layer-11.call_and_return_all_conditional_losses\n",
      "WARNING:tensorflow:Unresolved object in checkpoint: (root).layer-12.__call__\n",
      "WARNING:tensorflow:Unresolved object in checkpoint: (root).layer-12.call_and_return_all_conditional_losses\n",
      "WARNING:tensorflow:Unresolved object in checkpoint: (root).layer_with_weights-6.__call__\n",
      "WARNING:tensorflow:Unresolved object in checkpoint: (root).layer_with_weights-6.call_and_return_all_conditional_losses\n",
      "WARNING:tensorflow:Unresolved object in checkpoint: (root).layer-14.__call__\n",
      "WARNING:tensorflow:Unresolved object in checkpoint: (root).layer-14.call_and_return_all_conditional_losses\n",
      "WARNING:tensorflow:Unresolved object in checkpoint: (root).layer_with_weights-7.__call__\n",
      "WARNING:tensorflow:Unresolved object in checkpoint: (root).layer_with_weights-7.call_and_return_all_conditional_losses\n",
      "WARNING:tensorflow:Unresolved object in checkpoint: (root).layer-16.__call__\n",
      "WARNING:tensorflow:Unresolved object in checkpoint: (root).layer-16.call_and_return_all_conditional_losses\n",
      "WARNING:tensorflow:Unresolved object in checkpoint: (root).layer_with_weights-8.__call__\n",
      "WARNING:tensorflow:Unresolved object in checkpoint: (root).layer_with_weights-8.call_and_return_all_conditional_losses\n",
      "WARNING:tensorflow:Unresolved object in checkpoint: (root).signatures.serving_default\n",
      "WARNING:tensorflow:A checkpoint was restored (e.g. tf.train.Checkpoint.restore or tf.keras.Model.load_weights) but not all checkpointed values were used. See above for specific issues. Use expect_partial() on the load status object, e.g. tf.train.Checkpoint.restore(...).expect_partial(), to silence these warnings, or use assert_consumed() to make the check explicit. See https://www.tensorflow.org/guide/checkpoint#loading_mechanics for details.\n",
      "WARNING:tensorflow:Unresolved object in checkpoint: (root).__call__\n",
      "WARNING:tensorflow:Unresolved object in checkpoint: (root).call_and_return_all_conditional_losses\n",
      "WARNING:tensorflow:Unresolved object in checkpoint: (root)._default_save_signature\n",
      "WARNING:tensorflow:Unresolved object in checkpoint: (root).layer_with_weights-0.__call__\n",
      "WARNING:tensorflow:Unresolved object in checkpoint: (root).layer_with_weights-0.call_and_return_all_conditional_losses\n",
      "WARNING:tensorflow:Unresolved object in checkpoint: (root).layer_with_weights-1.__call__\n",
      "WARNING:tensorflow:Unresolved object in checkpoint: (root).layer_with_weights-1.call_and_return_all_conditional_losses\n",
      "WARNING:tensorflow:Unresolved object in checkpoint: (root).layer_with_weights-2.__call__\n",
      "WARNING:tensorflow:Unresolved object in checkpoint: (root).layer_with_weights-2.call_and_return_all_conditional_losses\n",
      "WARNING:tensorflow:Unresolved object in checkpoint: (root).layer_with_weights-3.__call__\n",
      "WARNING:tensorflow:Unresolved object in checkpoint: (root).layer_with_weights-3.call_and_return_all_conditional_losses\n",
      "WARNING:tensorflow:Unresolved object in checkpoint: (root).layer-4.__call__\n",
      "WARNING:tensorflow:Unresolved object in checkpoint: (root).layer-4.call_and_return_all_conditional_losses\n",
      "WARNING:tensorflow:Unresolved object in checkpoint: (root).layer-5.__call__\n",
      "WARNING:tensorflow:Unresolved object in checkpoint: (root).layer-5.call_and_return_all_conditional_losses\n",
      "WARNING:tensorflow:Unresolved object in checkpoint: (root).layer_with_weights-4.__call__\n",
      "WARNING:tensorflow:Unresolved object in checkpoint: (root).layer_with_weights-4.call_and_return_all_conditional_losses\n",
      "WARNING:tensorflow:Unresolved object in checkpoint: (root).layer_with_weights-5.__call__\n",
      "WARNING:tensorflow:Unresolved object in checkpoint: (root).layer_with_weights-5.call_and_return_all_conditional_losses\n",
      "WARNING:tensorflow:Unresolved object in checkpoint: (root).layer_with_weights-6.__call__\n",
      "WARNING:tensorflow:Unresolved object in checkpoint: (root).layer_with_weights-6.call_and_return_all_conditional_losses\n",
      "WARNING:tensorflow:Unresolved object in checkpoint: (root).layer_with_weights-7.__call__\n",
      "WARNING:tensorflow:Unresolved object in checkpoint: (root).layer_with_weights-7.call_and_return_all_conditional_losses\n",
      "WARNING:tensorflow:Unresolved object in checkpoint: (root).layer-10.__call__\n",
      "WARNING:tensorflow:Unresolved object in checkpoint: (root).layer-10.call_and_return_all_conditional_losses\n",
      "WARNING:tensorflow:Unresolved object in checkpoint: (root).layer-11.__call__\n",
      "WARNING:tensorflow:Unresolved object in checkpoint: (root).layer-11.call_and_return_all_conditional_losses\n",
      "WARNING:tensorflow:Unresolved object in checkpoint: (root).layer_with_weights-8.__call__\n",
      "WARNING:tensorflow:Unresolved object in checkpoint: (root).layer_with_weights-8.call_and_return_all_conditional_losses\n",
      "WARNING:tensorflow:Unresolved object in checkpoint: (root).layer_with_weights-9.__call__\n",
      "WARNING:tensorflow:Unresolved object in checkpoint: (root).layer_with_weights-9.call_and_return_all_conditional_losses\n",
      "WARNING:tensorflow:Unresolved object in checkpoint: (root).layer_with_weights-10.__call__\n",
      "WARNING:tensorflow:Unresolved object in checkpoint: (root).layer_with_weights-10.call_and_return_all_conditional_losses\n",
      "WARNING:tensorflow:Unresolved object in checkpoint: (root).layer_with_weights-11.__call__\n",
      "WARNING:tensorflow:Unresolved object in checkpoint: (root).layer_with_weights-11.call_and_return_all_conditional_losses\n",
      "WARNING:tensorflow:Unresolved object in checkpoint: (root).layer-16.__call__\n",
      "WARNING:tensorflow:Unresolved object in checkpoint: (root).layer-16.call_and_return_all_conditional_losses\n",
      "WARNING:tensorflow:Unresolved object in checkpoint: (root).layer-17.__call__\n",
      "WARNING:tensorflow:Unresolved object in checkpoint: (root).layer-17.call_and_return_all_conditional_losses\n",
      "WARNING:tensorflow:Unresolved object in checkpoint: (root).layer-18.__call__\n",
      "WARNING:tensorflow:Unresolved object in checkpoint: (root).layer-18.call_and_return_all_conditional_losses\n",
      "WARNING:tensorflow:Unresolved object in checkpoint: (root).layer_with_weights-12.__call__\n",
      "WARNING:tensorflow:Unresolved object in checkpoint: (root).layer_with_weights-12.call_and_return_all_conditional_losses\n",
      "WARNING:tensorflow:Unresolved object in checkpoint: (root).layer_with_weights-13.__call__\n",
      "WARNING:tensorflow:Unresolved object in checkpoint: (root).layer_with_weights-13.call_and_return_all_conditional_losses\n",
      "WARNING:tensorflow:Unresolved object in checkpoint: (root).layer-21.__call__\n",
      "WARNING:tensorflow:Unresolved object in checkpoint: (root).layer-21.call_and_return_all_conditional_losses\n",
      "WARNING:tensorflow:Unresolved object in checkpoint: (root).layer_with_weights-14.__call__\n",
      "WARNING:tensorflow:Unresolved object in checkpoint: (root).layer_with_weights-14.call_and_return_all_conditional_losses\n",
      "WARNING:tensorflow:Unresolved object in checkpoint: (root).layer_with_weights-15.__call__\n",
      "WARNING:tensorflow:Unresolved object in checkpoint: (root).layer_with_weights-15.call_and_return_all_conditional_losses\n",
      "WARNING:tensorflow:Unresolved object in checkpoint: (root).layer-24.__call__\n",
      "WARNING:tensorflow:Unresolved object in checkpoint: (root).layer-24.call_and_return_all_conditional_losses\n",
      "WARNING:tensorflow:Unresolved object in checkpoint: (root).layer_with_weights-16.__call__\n",
      "WARNING:tensorflow:Unresolved object in checkpoint: (root).layer_with_weights-16.call_and_return_all_conditional_losses\n",
      "WARNING:tensorflow:Unresolved object in checkpoint: (root).signatures.serving_default\n",
      "WARNING:tensorflow:A checkpoint was restored (e.g. tf.train.Checkpoint.restore or tf.keras.Model.load_weights) but not all checkpointed values were used. See above for specific issues. Use expect_partial() on the load status object, e.g. tf.train.Checkpoint.restore(...).expect_partial(), to silence these warnings, or use assert_consumed() to make the check explicit. See https://www.tensorflow.org/guide/checkpoint#loading_mechanics for details.\n",
      "WARNING:tensorflow:Unresolved object in checkpoint: (root).__call__\n",
      "WARNING:tensorflow:Unresolved object in checkpoint: (root).call_and_return_all_conditional_losses\n",
      "WARNING:tensorflow:Unresolved object in checkpoint: (root)._default_save_signature\n",
      "WARNING:tensorflow:Unresolved object in checkpoint: (root).layer_with_weights-0.__call__\n",
      "WARNING:tensorflow:Unresolved object in checkpoint: (root).layer_with_weights-0.call_and_return_all_conditional_losses\n",
      "WARNING:tensorflow:Unresolved object in checkpoint: (root).layer_with_weights-1.__call__\n",
      "WARNING:tensorflow:Unresolved object in checkpoint: (root).layer_with_weights-1.call_and_return_all_conditional_losses\n",
      "WARNING:tensorflow:Unresolved object in checkpoint: (root).layer_with_weights-2.__call__\n",
      "WARNING:tensorflow:Unresolved object in checkpoint: (root).layer_with_weights-2.call_and_return_all_conditional_losses\n",
      "WARNING:tensorflow:Unresolved object in checkpoint: (root).layer_with_weights-3.__call__\n",
      "WARNING:tensorflow:Unresolved object in checkpoint: (root).layer_with_weights-3.call_and_return_all_conditional_losses\n",
      "WARNING:tensorflow:Unresolved object in checkpoint: (root).layer-4.__call__\n",
      "WARNING:tensorflow:Unresolved object in checkpoint: (root).layer-4.call_and_return_all_conditional_losses\n",
      "WARNING:tensorflow:Unresolved object in checkpoint: (root).layer-5.__call__\n",
      "WARNING:tensorflow:Unresolved object in checkpoint: (root).layer-5.call_and_return_all_conditional_losses\n",
      "WARNING:tensorflow:Unresolved object in checkpoint: (root).layer_with_weights-4.__call__\n",
      "WARNING:tensorflow:Unresolved object in checkpoint: (root).layer_with_weights-4.call_and_return_all_conditional_losses\n",
      "WARNING:tensorflow:Unresolved object in checkpoint: (root).layer_with_weights-5.__call__\n",
      "WARNING:tensorflow:Unresolved object in checkpoint: (root).layer_with_weights-5.call_and_return_all_conditional_losses\n",
      "WARNING:tensorflow:Unresolved object in checkpoint: (root).layer_with_weights-6.__call__\n",
      "WARNING:tensorflow:Unresolved object in checkpoint: (root).layer_with_weights-6.call_and_return_all_conditional_losses\n",
      "WARNING:tensorflow:Unresolved object in checkpoint: (root).layer_with_weights-7.__call__\n",
      "WARNING:tensorflow:Unresolved object in checkpoint: (root).layer_with_weights-7.call_and_return_all_conditional_losses\n",
      "WARNING:tensorflow:Unresolved object in checkpoint: (root).layer-10.__call__\n",
      "WARNING:tensorflow:Unresolved object in checkpoint: (root).layer-10.call_and_return_all_conditional_losses\n",
      "WARNING:tensorflow:Unresolved object in checkpoint: (root).layer-11.__call__\n",
      "WARNING:tensorflow:Unresolved object in checkpoint: (root).layer-11.call_and_return_all_conditional_losses\n",
      "WARNING:tensorflow:Unresolved object in checkpoint: (root).layer_with_weights-8.__call__\n",
      "WARNING:tensorflow:Unresolved object in checkpoint: (root).layer_with_weights-8.call_and_return_all_conditional_losses\n",
      "WARNING:tensorflow:Unresolved object in checkpoint: (root).layer_with_weights-9.__call__\n",
      "WARNING:tensorflow:Unresolved object in checkpoint: (root).layer_with_weights-9.call_and_return_all_conditional_losses\n",
      "WARNING:tensorflow:Unresolved object in checkpoint: (root).layer_with_weights-10.__call__\n",
      "WARNING:tensorflow:Unresolved object in checkpoint: (root).layer_with_weights-10.call_and_return_all_conditional_losses\n",
      "WARNING:tensorflow:Unresolved object in checkpoint: (root).layer_with_weights-11.__call__\n",
      "WARNING:tensorflow:Unresolved object in checkpoint: (root).layer_with_weights-11.call_and_return_all_conditional_losses\n",
      "WARNING:tensorflow:Unresolved object in checkpoint: (root).layer-16.__call__\n",
      "WARNING:tensorflow:Unresolved object in checkpoint: (root).layer-16.call_and_return_all_conditional_losses\n",
      "WARNING:tensorflow:Unresolved object in checkpoint: (root).layer-17.__call__\n",
      "WARNING:tensorflow:Unresolved object in checkpoint: (root).layer-17.call_and_return_all_conditional_losses\n",
      "WARNING:tensorflow:Unresolved object in checkpoint: (root).layer-18.__call__\n",
      "WARNING:tensorflow:Unresolved object in checkpoint: (root).layer-18.call_and_return_all_conditional_losses\n",
      "WARNING:tensorflow:Unresolved object in checkpoint: (root).layer_with_weights-12.__call__\n",
      "WARNING:tensorflow:Unresolved object in checkpoint: (root).layer_with_weights-12.call_and_return_all_conditional_losses\n",
      "WARNING:tensorflow:Unresolved object in checkpoint: (root).layer_with_weights-13.__call__\n",
      "WARNING:tensorflow:Unresolved object in checkpoint: (root).layer_with_weights-13.call_and_return_all_conditional_losses\n",
      "WARNING:tensorflow:Unresolved object in checkpoint: (root).layer-21.__call__\n",
      "WARNING:tensorflow:Unresolved object in checkpoint: (root).layer-21.call_and_return_all_conditional_losses\n",
      "WARNING:tensorflow:Unresolved object in checkpoint: (root).layer_with_weights-14.__call__\n",
      "WARNING:tensorflow:Unresolved object in checkpoint: (root).layer_with_weights-14.call_and_return_all_conditional_losses\n",
      "WARNING:tensorflow:Unresolved object in checkpoint: (root).layer_with_weights-15.__call__\n",
      "WARNING:tensorflow:Unresolved object in checkpoint: (root).layer_with_weights-15.call_and_return_all_conditional_losses\n",
      "WARNING:tensorflow:Unresolved object in checkpoint: (root).layer-24.__call__\n",
      "WARNING:tensorflow:Unresolved object in checkpoint: (root).layer-24.call_and_return_all_conditional_losses\n",
      "WARNING:tensorflow:Unresolved object in checkpoint: (root).layer_with_weights-16.__call__\n",
      "WARNING:tensorflow:Unresolved object in checkpoint: (root).layer_with_weights-16.call_and_return_all_conditional_losses\n",
      "WARNING:tensorflow:Unresolved object in checkpoint: (root).signatures.serving_default\n",
      "WARNING:tensorflow:A checkpoint was restored (e.g. tf.train.Checkpoint.restore or tf.keras.Model.load_weights) but not all checkpointed values were used. See above for specific issues. Use expect_partial() on the load status object, e.g. tf.train.Checkpoint.restore(...).expect_partial(), to silence these warnings, or use assert_consumed() to make the check explicit. See https://www.tensorflow.org/guide/checkpoint#loading_mechanics for details.\n",
      "WARNING:tensorflow:Unresolved object in checkpoint: (root).__call__\n",
      "WARNING:tensorflow:Unresolved object in checkpoint: (root).call_and_return_all_conditional_losses\n",
      "WARNING:tensorflow:Unresolved object in checkpoint: (root)._default_save_signature\n",
      "WARNING:tensorflow:Unresolved object in checkpoint: (root).layer_with_weights-0.__call__\n",
      "WARNING:tensorflow:Unresolved object in checkpoint: (root).layer_with_weights-0.call_and_return_all_conditional_losses\n",
      "WARNING:tensorflow:Unresolved object in checkpoint: (root).layer_with_weights-1.__call__\n",
      "WARNING:tensorflow:Unresolved object in checkpoint: (root).layer_with_weights-1.call_and_return_all_conditional_losses\n",
      "WARNING:tensorflow:Unresolved object in checkpoint: (root).layer_with_weights-2.__call__\n",
      "WARNING:tensorflow:Unresolved object in checkpoint: (root).layer_with_weights-2.call_and_return_all_conditional_losses\n",
      "WARNING:tensorflow:Unresolved object in checkpoint: (root).layer_with_weights-3.__call__\n",
      "WARNING:tensorflow:Unresolved object in checkpoint: (root).layer_with_weights-3.call_and_return_all_conditional_losses\n",
      "WARNING:tensorflow:Unresolved object in checkpoint: (root).layer-4.__call__\n",
      "WARNING:tensorflow:Unresolved object in checkpoint: (root).layer-4.call_and_return_all_conditional_losses\n",
      "WARNING:tensorflow:Unresolved object in checkpoint: (root).layer-5.__call__\n",
      "WARNING:tensorflow:Unresolved object in checkpoint: (root).layer-5.call_and_return_all_conditional_losses\n",
      "WARNING:tensorflow:Unresolved object in checkpoint: (root).layer_with_weights-4.__call__\n",
      "WARNING:tensorflow:Unresolved object in checkpoint: (root).layer_with_weights-4.call_and_return_all_conditional_losses\n",
      "WARNING:tensorflow:Unresolved object in checkpoint: (root).layer_with_weights-5.__call__\n",
      "WARNING:tensorflow:Unresolved object in checkpoint: (root).layer_with_weights-5.call_and_return_all_conditional_losses\n",
      "WARNING:tensorflow:Unresolved object in checkpoint: (root).layer_with_weights-6.__call__\n",
      "WARNING:tensorflow:Unresolved object in checkpoint: (root).layer_with_weights-6.call_and_return_all_conditional_losses\n",
      "WARNING:tensorflow:Unresolved object in checkpoint: (root).layer_with_weights-7.__call__\n",
      "WARNING:tensorflow:Unresolved object in checkpoint: (root).layer_with_weights-7.call_and_return_all_conditional_losses\n",
      "WARNING:tensorflow:Unresolved object in checkpoint: (root).layer-10.__call__\n",
      "WARNING:tensorflow:Unresolved object in checkpoint: (root).layer-10.call_and_return_all_conditional_losses\n",
      "WARNING:tensorflow:Unresolved object in checkpoint: (root).layer-11.__call__\n",
      "WARNING:tensorflow:Unresolved object in checkpoint: (root).layer-11.call_and_return_all_conditional_losses\n",
      "WARNING:tensorflow:Unresolved object in checkpoint: (root).layer_with_weights-8.__call__\n",
      "WARNING:tensorflow:Unresolved object in checkpoint: (root).layer_with_weights-8.call_and_return_all_conditional_losses\n",
      "WARNING:tensorflow:Unresolved object in checkpoint: (root).layer_with_weights-9.__call__\n",
      "WARNING:tensorflow:Unresolved object in checkpoint: (root).layer_with_weights-9.call_and_return_all_conditional_losses\n",
      "WARNING:tensorflow:Unresolved object in checkpoint: (root).layer_with_weights-10.__call__\n",
      "WARNING:tensorflow:Unresolved object in checkpoint: (root).layer_with_weights-10.call_and_return_all_conditional_losses\n",
      "WARNING:tensorflow:Unresolved object in checkpoint: (root).layer_with_weights-11.__call__\n",
      "WARNING:tensorflow:Unresolved object in checkpoint: (root).layer_with_weights-11.call_and_return_all_conditional_losses\n",
      "WARNING:tensorflow:Unresolved object in checkpoint: (root).layer-16.__call__\n",
      "WARNING:tensorflow:Unresolved object in checkpoint: (root).layer-16.call_and_return_all_conditional_losses\n",
      "WARNING:tensorflow:Unresolved object in checkpoint: (root).layer-17.__call__\n",
      "WARNING:tensorflow:Unresolved object in checkpoint: (root).layer-17.call_and_return_all_conditional_losses\n",
      "WARNING:tensorflow:Unresolved object in checkpoint: (root).layer-18.__call__\n",
      "WARNING:tensorflow:Unresolved object in checkpoint: (root).layer-18.call_and_return_all_conditional_losses\n",
      "WARNING:tensorflow:Unresolved object in checkpoint: (root).layer_with_weights-12.__call__\n",
      "WARNING:tensorflow:Unresolved object in checkpoint: (root).layer_with_weights-12.call_and_return_all_conditional_losses\n",
      "WARNING:tensorflow:Unresolved object in checkpoint: (root).layer_with_weights-13.__call__\n",
      "WARNING:tensorflow:Unresolved object in checkpoint: (root).layer_with_weights-13.call_and_return_all_conditional_losses\n",
      "WARNING:tensorflow:Unresolved object in checkpoint: (root).layer-21.__call__\n",
      "WARNING:tensorflow:Unresolved object in checkpoint: (root).layer-21.call_and_return_all_conditional_losses\n",
      "WARNING:tensorflow:Unresolved object in checkpoint: (root).layer_with_weights-14.__call__\n",
      "WARNING:tensorflow:Unresolved object in checkpoint: (root).layer_with_weights-14.call_and_return_all_conditional_losses\n",
      "WARNING:tensorflow:Unresolved object in checkpoint: (root).layer_with_weights-15.__call__\n",
      "WARNING:tensorflow:Unresolved object in checkpoint: (root).layer_with_weights-15.call_and_return_all_conditional_losses\n",
      "WARNING:tensorflow:Unresolved object in checkpoint: (root).layer-24.__call__\n",
      "WARNING:tensorflow:Unresolved object in checkpoint: (root).layer-24.call_and_return_all_conditional_losses\n",
      "WARNING:tensorflow:Unresolved object in checkpoint: (root).layer_with_weights-16.__call__\n",
      "WARNING:tensorflow:Unresolved object in checkpoint: (root).layer_with_weights-16.call_and_return_all_conditional_losses\n",
      "WARNING:tensorflow:Unresolved object in checkpoint: (root).signatures.serving_default\n",
      "WARNING:tensorflow:A checkpoint was restored (e.g. tf.train.Checkpoint.restore or tf.keras.Model.load_weights) but not all checkpointed values were used. See above for specific issues. Use expect_partial() on the load status object, e.g. tf.train.Checkpoint.restore(...).expect_partial(), to silence these warnings, or use assert_consumed() to make the check explicit. See https://www.tensorflow.org/guide/checkpoint#loading_mechanics for details.\n",
      "313/313 - 24s - loss: 0.8712 - accuracy: 0.8626 - 24s/epoch - 77ms/step\n",
      "313/313 - 23s - loss: 0.8832 - accuracy: 0.7020 - 23s/epoch - 75ms/step\n"
     ]
    }
   ],
   "source": [
    "models = {}\n",
    "\n",
    "for model_name in os.listdir(\"../saved_model\"):\n",
    "    model_path = os.path.join(\"../saved_model\", model_name)\n",
    "    model = tf.keras.models.load_model(model_path)\n",
    "    loss, acc = model.evaluate(test_images, test_labels)\n",
    "    models[model_name] = {\"loss\": round(loss, 4), \"acc\": round(acc, 4)}"
   ]
  },
  {
   "cell_type": "markdown",
   "source": [
    "## Evaluate models"
   ],
   "metadata": {
    "collapsed": false,
    "pycharm": {
     "name": "#%% md\n"
    }
   }
  },
  {
   "cell_type": "code",
   "execution_count": 95,
   "outputs": [],
   "source": [
    "x_pos = [i for i, _ in enumerate(models)]\n",
    "\n",
    "def create_figure():\n",
    "    plt.style.use('ggplot')\n",
    "    fig, ax = plt.subplots()\n",
    "    ax.set_xticks(x_pos)\n",
    "    ax.set_xticklabels(models)\n",
    "    ax.set_xlabel('Models')\n",
    "    return fig, ax\n"
   ],
   "metadata": {
    "collapsed": false,
    "pycharm": {
     "name": "#%%\n"
    }
   }
  },
  {
   "cell_type": "markdown",
   "source": [
    "### Loss"
   ],
   "metadata": {
    "collapsed": false,
    "pycharm": {
     "name": "#%% md\n"
    }
   }
  },
  {
   "cell_type": "code",
   "execution_count": 100,
   "outputs": [
    {
     "data": {
      "text/plain": "<Figure size 432x288 with 1 Axes>",
      "image/png": "[encoded data removed]"
     },
     "metadata": {},
     "output_type": "display_data"
    }
   ],
   "source": [
    "loss = [models[model][\"loss\"] for model in models]\n",
    "\n",
    "fig, ax = create_figure()\n",
    "fig.suptitle(\"Loss\")\n",
    "ax.bar(x_pos, loss, align='center', alpha=0.5)\n",
    "ax.set_ylim(max(round(min(loss), 1) - 0.1, 0), 1)\n",
    "ax.set_ylabel(\"Loss\")\n",
    "\n",
    "plt.savefig(\"loss.png\")\n",
    "plt.show()"
   ],
   "metadata": {
    "collapsed": false,
    "pycharm": {
     "name": "#%%\n"
    }
   }
  },
  {
   "cell_type": "markdown",
   "source": [
    "### Accuracy"
   ],
   "metadata": {
    "collapsed": false,
    "pycharm": {
     "name": "#%% md\n"
    }
   }
  },
  {
   "cell_type": "code",
   "execution_count": 101,
   "outputs": [
    {
     "data": {
      "text/plain": "<Figure size 432x288 with 1 Axes>",
      "image/png": "[encoded data removed]"
     },
     "metadata": {},
     "output_type": "display_data"
    }
   ],
   "source": [
    "accuracy = [models[model][\"acc\"] for model in models]\n",
    "\n",
    "fig, ax = create_figure()\n",
    "ax.bar(x_pos, accuracy, align='center', alpha=0.5)\n",
    "ax.set_ylim(round(min(accuracy), 1) - 0.1, 1)\n",
    "ax.set_ylabel(\"Accuracy\")\n",
    "fig.suptitle(\"Accuracy\")\n",
    "\n",
    "plt.savefig(\"accuracy.png\")\n",
    "plt.show()"
   ],
   "metadata": {
    "collapsed": false,
    "pycharm": {
     "name": "#%%\n"
    }
   }
  },
  {
   "cell_type": "code",
   "execution_count": 102,
   "outputs": [
    {
     "name": "stdout",
     "output_type": "stream",
     "text": [
      "Base_Valid: loss: 1.5514, acc: 0.7439\n",
      "Batch_Normalized_Valid: loss: 0.9528, acc: 0.8461\n",
      "Main_Valid: loss: 0.3007, acc: 0.9113\n",
      "Main: loss: 0.2643, acc: 0.9215\n",
      "Base: loss: 1.2824, acc: 0.7913\n",
      "Batch_Normalized: loss: 0.8712, acc: 0.8626\n",
      "my_model: loss: 0.8832, acc: 0.702\n"
     ]
    }
   ],
   "source": [
    "for name, model in models.items():\n",
    "    print(f\"{name}: loss: {model['loss']}, acc: {model['acc']}\")"
   ],
   "metadata": {
    "collapsed": false,
    "pycharm": {
     "name": "#%%\n"
    }
   }
  },
  {
   "cell_type": "code",
   "execution_count": 98,
   "outputs": [],
   "source": [],
   "metadata": {
    "collapsed": false,
    "pycharm": {
     "name": "#%%\n"
    }
   }
  }
 ],
 "metadata": {
  "kernelspec": {
   "display_name": "Python 3",
   "language": "python",
   "name": "python3"
  },
  "language_info": {
   "codemirror_mode": {
    "name": "ipython",
    "version": 2
   },
   "file_extension": ".py",
   "mimetype": "text/x-python",
   "name": "python",
   "nbconvert_exporter": "python",
   "pygments_lexer": "ipython2",
   "version": "2.7.6"
  }
 },
 "nbformat": 4,
 "nbformat_minor": 0
}